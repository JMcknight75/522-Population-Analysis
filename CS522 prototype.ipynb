{
 "cells": [
  {
   "cell_type": "code",
   "execution_count": null,
   "metadata": {},
   "outputs": [],
   "source": [
    "import pandas as pd\n",
    "import numpy as np\n",
    "from matplotlib import pyplot as plt\n",
    "from sklearn.model_selection import train_test_split\n",
    "from sklearn import tree\n",
    "data = pd.read_csv(\"Populations.csv\")\n",
    "columns = [\"Region, subregion, country or area *\", \"Year\", \"Type\", \"Total Population, as of 1 January (thousands)\", \"Total Population, as of 1 July (thousands)\", \"Male Population, as of 1 July (thousands)\", \"Female Population, as of 1 July (thousands)\", \"Median Age, as of 1 July (years)\", \"Population Change (thousands)\", \"Births (thousands)\",\"Total Fertility Rate (live births per woman)\", \"Population Density, as of 1 July (persons per square km)\", \"Parent code\", \"Under-Five Mortality (deaths under age 5 per 1,000 live births)\",\"Mortality before Age 40, both sexes (deaths under age 40 per 1,000 live births)\",\"Net Number of Migrants (thousands)\",\"Live Births Surviving to Age 1 (thousands)\",\"Life Expectancy at Age 80, both sexes (years)\",\"Total Deaths (thousands)\",\"Life Expectancy at Birth, both sexes (years)\",\"Sex Ratio at Birth (males per 100 female births)\",\"Net Reproduction Rate (surviving daughters per woman)\",\"Rate of Natural Change (per 1,000 population)\",\"Population Growth Rate (percentage)\",\"Births by women aged 15 to 19 (thousands)\",\"Crude Birth Rate (births per 1,000 population)\"]\n",
    "data = data[columns]\n",
    "heatmap_data = data\n",
    "world_data = data[ data[\"Type\"] == \"World\"]\n",
    "region_data = data[data[\"Type\"] == \"SDG region\"]\n",
    "data = data[data[\"Type\"] == \"Country/Area\"]\n",
    "\n",
    "data = data.dropna()"
   ]
  },
  {
   "cell_type": "code",
   "execution_count": null,
   "metadata": {},
   "outputs": [],
   "source": [
    "depths = [5, 10, 20, 50, 100, 200, 500]\n",
    "y = data[\"Total Population, as of 1 January (thousands)\"]\n",
    "X = data.drop([\"Parent code\", \"Region, subregion, country or area *\", \"Type\",\"Total Population, as of 1 January (thousands)\", \"Total Population, as of 1 July (thousands)\",\"Male Population, as of 1 July (thousands)\", \"Female Population, as of 1 July (thousands)\"], axis=1)\n",
    "X_train, X_test, y_train, y_test = train_test_split(X, y, test_size=0.2, random_state=476)\n",
    "X_subtrain, X_val, y_subtrain, y_val = train_test_split(X, y, test_size=0.125, random_state=476)\n",
    "for depth in depths:\n",
    "    clf = tree.DecisionTreeRegressor(criterion='squared_error', max_depth=depth)\n",
    "    clf.fit(X_subtrain, y_subtrain)\n",
    "    y_predict = clf.predict(X_val)\n",
    "    print(mean_squared_error(y_val,y_predict, squared=False))"
   ]
  }
 ],
 "metadata": {
  "kernelspec": {
   "display_name": "Python 3",
   "language": "python",
   "name": "python3"
  },
  "language_info": {
   "name": "python",
   "version": "3.11.9"
  }
 },
 "nbformat": 4,
 "nbformat_minor": 2
}
