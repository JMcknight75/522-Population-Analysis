{
 "cells": [
  {
   "cell_type": "code",
   "execution_count": 1,
   "metadata": {},
   "outputs": [
    {
     "name": "stderr",
     "output_type": "stream",
     "text": [
      "C:\\Users\\justi\\AppData\\Local\\Temp\\ipykernel_35044\\3679837950.py:8: DtypeWarning: Columns (3) have mixed types. Specify dtype option on import or set low_memory=False.\n",
      "  data = pd.read_csv(\"Populations.csv\")\n"
     ]
    }
   ],
   "source": [
    "import pandas as pd\n",
    "import numpy as np\n",
    "from matplotlib import pyplot as plt\n",
    "from sklearn.model_selection import train_test_split\n",
    "from sklearn.metrics import accuracy_score, mean_squared_error\n",
    "from sklearn import tree\n",
    "from sklearn.ensemble import RandomForestRegressor\n",
    "data = pd.read_csv(\"Populations.csv\")\n",
    "columns = [\"Region, subregion, country or area *\", \"Year\", \"Type\", \"Total Population, as of 1 January (thousands)\", \"Total Population, as of 1 July (thousands)\", \"Male Population, as of 1 July (thousands)\", \"Female Population, as of 1 July (thousands)\", \"Median Age, as of 1 July (years)\", \"Population Change (thousands)\", \"Births (thousands)\",\"Total Fertility Rate (live births per woman)\", \"Population Density, as of 1 July (persons per square km)\", \"Parent code\", \"Under-Five Mortality (deaths under age 5 per 1,000 live births)\",\"Mortality before Age 40, both sexes (deaths under age 40 per 1,000 live births)\",\"Net Number of Migrants (thousands)\",\"Live Births Surviving to Age 1 (thousands)\",\"Life Expectancy at Age 80, both sexes (years)\",\"Total Deaths (thousands)\",\"Life Expectancy at Birth, both sexes (years)\",\"Sex Ratio at Birth (males per 100 female births)\",\"Net Reproduction Rate (surviving daughters per woman)\",\"Rate of Natural Change (per 1,000 population)\",\"Population Growth Rate (percentage)\",\"Births by women aged 15 to 19 (thousands)\",\"Crude Birth Rate (births per 1,000 population)\"]\n",
    "data = data[columns]\n",
    "heatmap_data = data\n",
    "world_data = data[ data[\"Type\"] == \"World\"]\n",
    "region_data = data[data[\"Type\"] == \"SDG region\"]\n",
    "data = data[data[\"Type\"] == \"Country/Area\"]\n",
    "\n",
    "data = data.dropna()"
   ]
  },
  {
   "cell_type": "code",
   "execution_count": null,
   "metadata": {},
   "outputs": [
    {
     "name": "stderr",
     "output_type": "stream",
     "text": [
      "C:\\Users\\justi\\AppData\\Local\\Packages\\PythonSoftwareFoundation.Python.3.11_qbz5n2kfra8p0\\LocalCache\\local-packages\\Python311\\site-packages\\sklearn\\metrics\\_regression.py:492: FutureWarning: 'squared' is deprecated in version 1.4 and will be removed in 1.6. To calculate the root mean squared error, use the function'root_mean_squared_error'.\n",
      "  warnings.warn(\n"
     ]
    },
    {
     "name": "stdout",
     "output_type": "stream",
     "text": [
      "8810.35121668061\n"
     ]
    }
   ],
   "source": [
    "depths = [5, 10, 20, 50, 100, 200, 500]\n",
    "y = data[\"Total Population, as of 1 January (thousands)\"]\n",
    "X = data.drop([\"Parent code\", \"Region, subregion, country or area *\", \"Type\",\"Total Population, as of 1 January (thousands)\", \"Total Population, as of 1 July (thousands)\",\"Male Population, as of 1 July (thousands)\", \"Female Population, as of 1 July (thousands)\"], axis=1)\n",
    "X_train, X_test, y_train, y_test = train_test_split(X, y, test_size=0.2, random_state=476)\n",
    "X_subtrain, X_val, y_subtrain, y_val = train_test_split(X, y, test_size=0.125, random_state=476)\n",
    "\n",
    "for depth in depths:\n",
    "    clf = RandomForestRegressor(criterion='squared_error', max_depth=depth)\n",
    "    clf.fit(X_subtrain, y_subtrain)\n",
    "    y_predict = clf.predict(X_val)\n",
    "    print(mean_squared_error(y_val,y_predict, squared=False))"
   ]
  }
 ],
 "metadata": {
  "kernelspec": {
   "display_name": "Python 3",
   "language": "python",
   "name": "python3"
  },
  "language_info": {
   "codemirror_mode": {
    "name": "ipython",
    "version": 3
   },
   "file_extension": ".py",
   "mimetype": "text/x-python",
   "name": "python",
   "nbconvert_exporter": "python",
   "pygments_lexer": "ipython3",
   "version": "3.11.9"
  }
 },
 "nbformat": 4,
 "nbformat_minor": 2
}
