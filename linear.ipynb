{
 "cells": [
  {
   "cell_type": "markdown",
   "id": "dd534c54-b7b2-4f8f-8950-045fe02bdbeb",
   "metadata": {},
   "source": [
    "# CS522: Population Projection"
   ]
  },
  {
   "cell_type": "code",
   "execution_count": 1,
   "id": "bca0735f-8db1-4149-8da1-336c6c19754e",
   "metadata": {},
   "outputs": [],
   "source": [
    "import numpy as np\n",
    "import pandas as pd\n",
    "import matplotlib.pyplot as plt\n",
    "\n",
    "from sklearn.linear_model import LinearRegression\n",
    "from sklearn.metrics import root_mean_squared_error\n",
    "from sklearn.model_selection import train_test_split\n",
    "\n",
    "import warnings\n",
    "warnings.filterwarnings('ignore')\n",
    "\n",
    "\n",
    "data = pd.read_csv('Populations.csv')\n",
    "\n",
    "columns = [\n",
    "    'Type',\n",
    "    'Year',\n",
    "    'Region, subregion, country or area *',\n",
    "    'Total Population, as of 1 January (thousands)',\n",
    "    'Population Density, as of 1 July (persons per square km)',\n",
    "    'Population Sex Ratio, as of 1 July (males per 100 females)',\n",
    "    'Median Age, as of 1 July (years)',\n",
    "    'Natural Change, Births minus Deaths (thousands)',\n",
    "    'Rate of Natural Change (per 1,000 population)',\n",
    "    'Population Change (thousands)',\n",
    "    'Population Growth Rate (percentage)',\n",
    "    'Births (thousands)',\n",
    "    'Births by women aged 15 to 19 (thousands)',\n",
    "    'Crude Birth Rate (births per 1,000 population)',\n",
    "    'Total Fertility Rate (live births per woman)',\n",
    "    'Net Reproduction Rate (surviving daughters per woman)',\n",
    "    'Mean Age Childbearing (years)',\n",
    "    'Sex Ratio at Birth (males per 100 female births)',\n",
    "    'Total Deaths (thousands)',\n",
    "    'Male Deaths (thousands)',\n",
    "    'Female Deaths (thousands)',\n",
    "    'Crude Death Rate (deaths per 1,000 population)',\n",
    "    'Life Expectancy at Birth, both sexes (years)',\n",
    "    'Male Life Expectancy at Birth (years)',\n",
    "    'Female Life Expectancy at Birth (years)',\n",
    "    'Life Expectancy at Age 15, both sexes (years)',\n",
    "    'Male Life Expectancy at Age 15 (years)',\n",
    "    'Female Life Expectancy at Age 15 (years)',\n",
    "    'Life Expectancy at Age 65, both sexes (years)',\n",
    "    'Male Life Expectancy at Age 65 (years)',\n",
    "    'Female Life Expectancy at Age 65 (years)',\n",
    "    'Life Expectancy at Age 80, both sexes (years)',\n",
    "    'Male Life Expectancy at Age 80 (years)',\n",
    "    'Female Life Expectancy at Age 80 (years)',\n",
    "    'Infant Deaths, under age 1 (thousands)',\n",
    "    'Infant Mortality Rate (infant deaths per 1,000 live births)',\n",
    "    'Live Births Surviving to Age 1 (thousands)',\n",
    "    'Under-Five Deaths, under age 5 (thousands)',\n",
    "    'Under-Five Mortality (deaths under age 5 per 1,000 live births)',\n",
    "    'Mortality before Age 40, both sexes (deaths under age 40 per 1,000 live births)',\n",
    "    'Male Mortality before Age 40 (deaths under age 40 per 1,000 male live births)',\n",
    "    'Female Mortality before Age 40 (deaths under age 40 per 1,000 female live births)',\n",
    "    'Mortality before Age 60, both sexes (deaths under age 60 per 1,000 live births)',\n",
    "    'Male Mortality before Age 60 (deaths under age 60 per 1,000 male live births)',\n",
    "    'Female Mortality before Age 60 (deaths under age 60 per 1,000 female live births)',\n",
    "    'Mortality between Age 15 and 50, both sexes (deaths under age 50 per 1,000 alive at age 15)',\n",
    "    'Male Mortality between Age 15 and 50 (deaths under age 50 per 1,000 males alive at age 15)',\n",
    "    'Female Mortality between Age 15 and 50 (deaths under age 50 per 1,000 females alive at age 15)',\n",
    "    'Mortality between Age 15 and 60, both sexes (deaths under age 60 per 1,000 alive at age 15)',\n",
    "    'Male Mortality between Age 15 and 60 (deaths under age 60 per 1,000 males alive at age 15)',\n",
    "    'Female Mortality between Age 15 and 60 (deaths under age 60 per 1,000 females alive at age 15)',\n",
    "    'Net Number of Migrants (thousands)',\n",
    "    'Net Migration Rate (per 1,000 population)'\n",
    "]\n",
    "\n",
    "data = data[columns]\n",
    "data = data[data['Type'] == 'Country/Area']\n",
    "\n",
    "reordered_data = pd.DataFrame()\n",
    "\n",
    "for year in range(1950, 2024):\n",
    "    tmp = data[data['Year'] == year]\n",
    "    reordered_data = pd.concat([reordered_data, tmp], ignore_index=True)\n",
    "\n",
    "data = data.dropna()\n",
    "reordered_data = reordered_data.dropna()\n",
    "\n",
    "X = reordered_data.drop(['Region, subregion, country or area *', 'Type',\n",
    "                         'Total Population, as of 1 January (thousands)'],\n",
    "                        axis=1)\n",
    "\n",
    "y = reordered_data['Total Population, as of 1 January (thousands)']"
   ]
  },
  {
   "cell_type": "markdown",
   "id": "e8fa8f2b-95c4-4cb5-bd79-196236cf9efb",
   "metadata": {},
   "source": [
    "## Linear Regression"
   ]
  },
  {
   "cell_type": "markdown",
   "id": "275fb846-b5ec-4276-aff4-d1b9d213730d",
   "metadata": {},
   "source": [
    "### World (shuffle)"
   ]
  },
  {
   "cell_type": "code",
   "execution_count": 5,
   "id": "8bcd25ff-bfd7-4a63-8525-2c31bb9e15cd",
   "metadata": {},
   "outputs": [
    {
     "name": "stdout",
     "output_type": "stream",
     "text": [
      "rmse: 12691.342715555631\n"
     ]
    }
   ],
   "source": [
    "X_train, X_test, y_train, y_test = train_test_split(X, y, test_size=0.2, random_state=33, shuffle=True)\n",
    "\n",
    "clf = LinearRegression()\n",
    "clf.fit(X_train, y_train)\n",
    "\n",
    "y_pred = clf.predict(X_test)\n",
    "\n",
    "rmse = root_mean_squared_error(y_test, y_pred)\n",
    "print(f'rmse: {rmse}')"
   ]
  },
  {
   "cell_type": "markdown",
   "id": "31cdfe81-ab84-49e4-b5a7-411f8b820704",
   "metadata": {},
   "source": [
    "### World (no shuffle)"
   ]
  },
  {
   "cell_type": "code",
   "execution_count": 8,
   "id": "0555c931-02db-4c53-909d-e93607fa5644",
   "metadata": {},
   "outputs": [
    {
     "name": "stdout",
     "output_type": "stream",
     "text": [
      "rmse: 14703.923566917294\n"
     ]
    }
   ],
   "source": [
    "X_train, X_test, y_train, y_test = train_test_split(X, y, test_size=0.2, random_state=33, shuffle=False)\n",
    "\n",
    "clf = LinearRegression()\n",
    "clf.fit(X_train, y_train)\n",
    "\n",
    "y_pred = clf.predict(X_test)\n",
    "\n",
    "rmse = root_mean_squared_error(y_test, y_pred)\n",
    "print(f'rmse: {rmse}')"
   ]
  },
  {
   "cell_type": "markdown",
   "id": "373a05b0-47e5-465a-a6c1-db6dfdb4c583",
   "metadata": {},
   "source": [
    "### Single Country"
   ]
  },
  {
   "cell_type": "code",
   "execution_count": 11,
   "id": "0188413c-c236-45e2-90b0-4f2b4489a09c",
   "metadata": {},
   "outputs": [
    {
     "name": "stdout",
     "output_type": "stream",
     "text": [
      "rmse: 52.44527778727399\n"
     ]
    },
    {
     "data": {
      "image/png": "[encoded data removed]",
      "text/plain": [
       "<Figure size 640x480 with 1 Axes>"
      ]
     },
     "metadata": {},
     "output_type": "display_data"
    }
   ],
   "source": [
    "country = 'Qatar'\n",
    "year = 2000\n",
    "\n",
    "single_country = reordered_data[reordered_data['Region, subregion, country or area *'] == country]\n",
    "\n",
    "train = single_country[single_country['Year'] < year]\n",
    "test = single_country[single_country['Year'] >= year]\n",
    "\n",
    "X_train = train.drop(['Region, subregion, country or area *', 'Type',\n",
    "                      'Total Population, as of 1 January (thousands)'],\n",
    "                     axis=1)\n",
    "\n",
    "X_test = test.drop(['Region, subregion, country or area *', 'Type',\n",
    "                    'Total Population, as of 1 January (thousands)'],\n",
    "                   axis=1)\n",
    "\n",
    "y_train = train['Total Population, as of 1 January (thousands)']\n",
    "y_test = test['Total Population, as of 1 January (thousands)']\n",
    "\n",
    "clf = LinearRegression()\n",
    "clf.fit(X_train, y_train)\n",
    "\n",
    "y_pred = clf.predict(X_test)\n",
    "\n",
    "rmse = root_mean_squared_error(y_test, y_pred)\n",
    "print(f'rmse: {rmse}')\n",
    "\n",
    "plt.plot(range(1950, year), y_train, color='indigo', label='past')\n",
    "plt.plot(range(year, 2024), y_pred, color='crimson', label='predicted')\n",
    "plt.plot(range(year, 2024), y_test, color='green', label='actual')\n",
    "plt.title(f'Predicted vs. Actual ({country})')\n",
    "plt.xlabel('Year')\n",
    "plt.ylabel('Population (thousands)')\n",
    "plt.legend()\n",
    "plt.show()"
   ]
  },
  {
   "cell_type": "markdown",
   "id": "6433a83b-8b71-40c3-9cbf-4020d5189496",
   "metadata": {},
   "source": [
    "### END"
   ]
  }
 ],
 "metadata": {
  "kernelspec": {
   "display_name": "Python [conda env:base] *",
   "language": "python",
   "name": "conda-base-py"
  },
  "language_info": {
   "codemirror_mode": {
    "name": "ipython",
    "version": 3
   },
   "file_extension": ".py",
   "mimetype": "text/x-python",
   "name": "python",
   "nbconvert_exporter": "python",
   "pygments_lexer": "ipython3",
   "version": "3.12.7"
  }
 },
 "nbformat": 4,
 "nbformat_minor": 5
}
